
from pathlib import Path
import pandas as pd
file_path = Path(r"C:\Users\ernes\Desktop\project1\Sleep_Analysis")


sleep_analysis = pd.read_csv(file_path, encoding="UTF-8")
sleep_analysis.head()
