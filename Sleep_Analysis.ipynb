{
 "cells": [
  {
   "cell_type": "code",
   "execution_count": 10,
   "id": "0135c7d4-93b2-4c94-aea5-6e85c1dda475",
   "metadata": {},
   "outputs": [],
   "source": [
    "\n",
    "from pathlib import Path\n",
    "import pandas as pd\n",
    "file_path = Path(r\"C:\\Users\\ernes\\Desktop\\project1\\Sleep_Analysis\")"
   ]
  },
  {
   "cell_type": "code",
   "execution_count": 11,
   "id": "fc67b326-c215-4274-be9b-a022ee491388",
   "metadata": {},
   "outputs": [
    {
     "data": {
      "text/html": [
       "<div>\n",
       "<style scoped>\n",
       "    .dataframe tbody tr th:only-of-type {\n",
       "        vertical-align: middle;\n",
       "    }\n",
       "\n",
       "    .dataframe tbody tr th {\n",
       "        vertical-align: top;\n",
       "    }\n",
       "\n",
       "    .dataframe thead th {\n",
       "        text-align: right;\n",
       "    }\n",
       "</style>\n",
       "<table border=\"1\" class=\"dataframe\">\n",
       "  <thead>\n",
       "    <tr style=\"text-align: right;\">\n",
       "      <th></th>\n",
       "      <th>Age</th>\n",
       "      <th>Gender</th>\n",
       "      <th>meals/day</th>\n",
       "      <th>physical illness</th>\n",
       "      <th>screen time</th>\n",
       "      <th>bluelight filter</th>\n",
       "      <th>sleep direction</th>\n",
       "      <th>exercise</th>\n",
       "      <th>smoke/drink</th>\n",
       "      <th>beverage</th>\n",
       "      <th>sleep time</th>\n",
       "    </tr>\n",
       "  </thead>\n",
       "  <tbody>\n",
       "    <tr>\n",
       "      <th>0</th>\n",
       "      <td>22</td>\n",
       "      <td>Male</td>\n",
       "      <td>two</td>\n",
       "      <td>no</td>\n",
       "      <td>2hrs</td>\n",
       "      <td>yes</td>\n",
       "      <td>west</td>\n",
       "      <td>sometimes</td>\n",
       "      <td>no</td>\n",
       "      <td>Tea</td>\n",
       "      <td>6.7575</td>\n",
       "    </tr>\n",
       "    <tr>\n",
       "      <th>1</th>\n",
       "      <td>22</td>\n",
       "      <td>Female</td>\n",
       "      <td>three</td>\n",
       "      <td>no</td>\n",
       "      <td>3-4 hrs</td>\n",
       "      <td>no</td>\n",
       "      <td>south</td>\n",
       "      <td>no</td>\n",
       "      <td>no</td>\n",
       "      <td>Coffee</td>\n",
       "      <td>8.0000</td>\n",
       "    </tr>\n",
       "    <tr>\n",
       "      <th>2</th>\n",
       "      <td>23</td>\n",
       "      <td>Male</td>\n",
       "      <td>three</td>\n",
       "      <td>no</td>\n",
       "      <td>3-4 hrs</td>\n",
       "      <td>no</td>\n",
       "      <td>south</td>\n",
       "      <td>no</td>\n",
       "      <td>no</td>\n",
       "      <td>Tea</td>\n",
       "      <td>8.0000</td>\n",
       "    </tr>\n",
       "    <tr>\n",
       "      <th>3</th>\n",
       "      <td>23</td>\n",
       "      <td>Female</td>\n",
       "      <td>two</td>\n",
       "      <td>no</td>\n",
       "      <td>1-2 hrs</td>\n",
       "      <td>no</td>\n",
       "      <td>east</td>\n",
       "      <td>sometimes</td>\n",
       "      <td>no</td>\n",
       "      <td>Coffee</td>\n",
       "      <td>6.5000</td>\n",
       "    </tr>\n",
       "    <tr>\n",
       "      <th>4</th>\n",
       "      <td>22</td>\n",
       "      <td>Male</td>\n",
       "      <td>three</td>\n",
       "      <td>no</td>\n",
       "      <td>more than 5</td>\n",
       "      <td>yes</td>\n",
       "      <td>east</td>\n",
       "      <td>sometimes</td>\n",
       "      <td>yes</td>\n",
       "      <td>Tea and Coffee both</td>\n",
       "      <td>6.0000</td>\n",
       "    </tr>\n",
       "  </tbody>\n",
       "</table>\n",
       "</div>"
      ],
      "text/plain": [
       "   Age  Gender meals/day physical illness  screen time bluelight filter  \\\n",
       "0   22    Male       two               no         2hrs              yes   \n",
       "1   22  Female     three               no      3-4 hrs               no   \n",
       "2   23    Male     three               no      3-4 hrs               no   \n",
       "3   23  Female       two               no      1-2 hrs               no   \n",
       "4   22    Male     three               no  more than 5              yes   \n",
       "\n",
       "  sleep direction   exercise smoke/drink             beverage  sleep time  \n",
       "0            west  sometimes          no                  Tea      6.7575  \n",
       "1           south         no          no               Coffee      8.0000  \n",
       "2           south         no          no                  Tea      8.0000  \n",
       "3            east  sometimes          no               Coffee      6.5000  \n",
       "4            east  sometimes         yes  Tea and Coffee both      6.0000  "
      ]
     },
     "execution_count": 11,
     "metadata": {},
     "output_type": "execute_result"
    }
   ],
   "source": [
    "sleep_analysis = pd.read_csv(file_path, encoding=\"UTF-8\")\n",
    "sleep_analysis.head()\n"
   ]
  },
  {
   "cell_type": "code",
   "execution_count": 17,
   "id": "b4ea5e15-33d7-4345-9afa-e856571ed0e5",
   "metadata": {},
   "outputs": [
    {
     "data": {
      "text/plain": [
       "Age                 46\n",
       "Gender              46\n",
       "meals/day           46\n",
       "physical illness    46\n",
       "screen time         46\n",
       "bluelight filter    46\n",
       "sleep direction     46\n",
       "exercise            46\n",
       "smoke/drink         46\n",
       "beverage            46\n",
       "sleep time          46\n",
       "dtype: int64"
      ]
     },
     "execution_count": 17,
     "metadata": {},
     "output_type": "execute_result"
    }
   ],
   "source": [
    "sleep_analysis.count()"
   ]
  },
  {
   "cell_type": "code",
   "execution_count": null,
   "id": "d8ea5303-11e0-43e0-874d-94477ecd63d3",
   "metadata": {},
   "outputs": [],
   "source": []
  }
 ],
 "metadata": {
  "kernelspec": {
   "display_name": "Python 3 (ipykernel)",
   "language": "python",
   "name": "python3"
  },
  "language_info": {
   "codemirror_mode": {
    "name": "ipython",
    "version": 3
   },
   "file_extension": ".py",
   "mimetype": "text/x-python",
   "name": "python",
   "nbconvert_exporter": "python",
   "pygments_lexer": "ipython3",
   "version": "3.12.4"
  }
 },
 "nbformat": 4,
 "nbformat_minor": 5
}
